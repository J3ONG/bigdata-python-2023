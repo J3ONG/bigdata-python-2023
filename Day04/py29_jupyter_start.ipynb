{
 "cells": [
  {
   "attachments": {},
   "cell_type": "markdown",
   "metadata": {},
   "source": [
    "# 주피터 노트북 기본\n",
    "\n",
    "## 셀 추가 / 삭제\n",
    "- 코드버튼 클릭 - Python 코드 셀 추가\n",
    "- Markdown 버튼 클릭 = 마크다운 셀 추가\n",
    "- ctrl + Enter -> 실행\n",
    "- Shift + Enter -> 실행 후 빈 셀(실행한 셀) 추가"
   ]
  },
  {
   "cell_type": "code",
   "execution_count": 13,
   "metadata": {},
   "outputs": [
    {
     "name": "stdout",
     "output_type": "stream",
     "text": [
      "여기는 파이썬 셀\n"
     ]
    }
   ],
   "source": [
    "print(\"여기는 파이썬 셀\")"
   ]
  },
  {
   "attachments": {},
   "cell_type": "markdown",
   "metadata": {},
   "source": [
    "## 일반 출력\n",
    "```python\n",
    "print('Hello, python!') # 마크다운 코드 추가\n",
    "```"
   ]
  },
  {
   "cell_type": "code",
   "execution_count": 14,
   "metadata": {},
   "outputs": [
    {
     "name": "stdout",
     "output_type": "stream",
     "text": [
      "Hi\n"
     ]
    }
   ],
   "source": [
    "print('Hi')\n"
   ]
  },
  {
   "attachments": {},
   "cell_type": "markdown",
   "metadata": {},
   "source": [
    "### 이미지 추가\n",
    "\n",
    "> ***인용*** \n",
    "\n",
    "<img src='https://jupyter-notebook.readthedocs.io/en/latest/_images/notebook-running-code.png' width=\"400\">\n",
    "\n",
    "<img src='https://cdn.pixabay.com/animation/2023/03/21/10/41/10-41-09-561_512.gif' width=\"400\">\n",
    "\n",
    "---\n",
    "\n",
    "|제목|내용|비고|\n",
    "|:-----|----------:|:----:|\n",
    "|제목1|내용1234|비고123411111|\n",
    "|제목2|내용1234|비고1234|\n",
    "|제목3|내용1222222234|비고1234|\n",
    "|제목4|내용1234|비고1234|\n",
    "|제목555555|내용1234|비고1234|\n"
   ]
  },
  {
   "attachments": {},
   "cell_type": "markdown",
   "metadata": {},
   "source": [
    "### 주피터 노트북 디버깅\n",
    "- 브레이크 포인트(중단점 클릭)\n",
    "- Ctrl + Shift + Alt + Enter\n",
    "    - py 디버깅과 동일(F10, F11) 사용"
   ]
  },
  {
   "cell_type": "code",
   "execution_count": 18,
   "metadata": {},
   "outputs": [
    {
     "name": "stdout",
     "output_type": "stream",
     "text": [
      "나누기 완료\n",
      "예외발생integer division or modulo by zero\n",
      "\n"
     ]
    }
   ],
   "source": [
    "def divide(x, y):\n",
    "    result = ''\n",
    "    \n",
    "    print('나누기 완료')\n",
    "    try:\n",
    "        result = x// y\n",
    "    except Exception as e:\n",
    "        print(f'예외발생{e}')\n",
    "\n",
    "    return result\n",
    "\n",
    "\n",
    "\n",
    "print(divide(7,0))"
   ]
  },
  {
   "attachments": {},
   "cell_type": "markdown",
   "metadata": {},
   "source": [
    "### 출력 Python 과 차이점\n",
    "변수 출력할 때\n",
    "- 변수명만 입력 후 실행 결과 출력\n",
    "- print() 도 출력\n",
    "    - 단, 변수만 쓸때는 제일 마지막 변수만 출력\n",
    "    - 여러번 출력 하고 싶으면 print() 사용할 것\n",
    "    - 하지만, 변수를 그냥 출력 할 때와 print() 출력 때랑 결과 다름"
   ]
  },
  {
   "cell_type": "code",
   "execution_count": 17,
   "metadata": {},
   "outputs": [
    {
     "name": "stdout",
     "output_type": "stream",
     "text": [
      "Hello Python!\n"
     ]
    }
   ],
   "source": [
    "a = 'Hello Python!'\n",
    "print(a)"
   ]
  },
  {
   "attachments": {},
   "cell_type": "markdown",
   "metadata": {},
   "source": [
    "#### 경로 문제 해결\n",
    "\n",
    ".py 에서의 파일 경로와 .ipynb경로가 다름\n",
    "- .py : ./Day04/dummy_members.csv\n",
    "- .ipynb : ./dummy_members.csv\n"
   ]
  },
  {
   "cell_type": "code",
   "execution_count": 20,
   "metadata": {},
   "outputs": [
    {
     "data": {
      "text/html": [
       "<div>\n",
       "<style scoped>\n",
       "    .dataframe tbody tr th:only-of-type {\n",
       "        vertical-align: middle;\n",
       "    }\n",
       "\n",
       "    .dataframe tbody tr th {\n",
       "        vertical-align: top;\n",
       "    }\n",
       "\n",
       "    .dataframe thead th {\n",
       "        text-align: right;\n",
       "    }\n",
       "</style>\n",
       "<table border=\"1\" class=\"dataframe\">\n",
       "  <thead>\n",
       "    <tr style=\"text-align: right;\">\n",
       "      <th></th>\n",
       "      <th>이름</th>\n",
       "      <th>우편번호</th>\n",
       "      <th>주소</th>\n",
       "      <th>전화번호</th>\n",
       "      <th>이메일</th>\n",
       "    </tr>\n",
       "  </thead>\n",
       "  <tbody>\n",
       "    <tr>\n",
       "      <th>0</th>\n",
       "      <td>조주원</td>\n",
       "      <td>62516</td>\n",
       "      <td>서울특별시 광진구 서초중앙길</td>\n",
       "      <td>032-360-1420</td>\n",
       "      <td>jeonghyi24@example.com</td>\n",
       "    </tr>\n",
       "    <tr>\n",
       "      <th>1</th>\n",
       "      <td>박서준</td>\n",
       "      <td>38786</td>\n",
       "      <td>대전광역시 북구 오금5로 (성수김박리)</td>\n",
       "      <td>032-828-5823</td>\n",
       "      <td>gimcunja@example.org</td>\n",
       "    </tr>\n",
       "    <tr>\n",
       "      <th>2</th>\n",
       "      <td>송예원</td>\n",
       "      <td>61306</td>\n",
       "      <td>인천광역시 마포구 오금가</td>\n",
       "      <td>052-784-9787</td>\n",
       "      <td>sugja92@example.com</td>\n",
       "    </tr>\n",
       "    <tr>\n",
       "      <th>3</th>\n",
       "      <td>김지후</td>\n",
       "      <td>81915</td>\n",
       "      <td>대구광역시 도봉구 오금74거리 (정호임최읍)</td>\n",
       "      <td>032-643-8406</td>\n",
       "      <td>coeogsun@example.org</td>\n",
       "    </tr>\n",
       "    <tr>\n",
       "      <th>4</th>\n",
       "      <td>김성진</td>\n",
       "      <td>77330</td>\n",
       "      <td>부산광역시 남구 개포40가</td>\n",
       "      <td>051-159-6005</td>\n",
       "      <td>yeongsubag@example.org</td>\n",
       "    </tr>\n",
       "    <tr>\n",
       "      <th>...</th>\n",
       "      <td>...</td>\n",
       "      <td>...</td>\n",
       "      <td>...</td>\n",
       "      <td>...</td>\n",
       "      <td>...</td>\n",
       "    </tr>\n",
       "    <tr>\n",
       "      <th>9995</th>\n",
       "      <td>조현우</td>\n",
       "      <td>36673</td>\n",
       "      <td>전라북도 성남시 영동대42길</td>\n",
       "      <td>043-858-3056</td>\n",
       "      <td>yeongsun91@example.net</td>\n",
       "    </tr>\n",
       "    <tr>\n",
       "      <th>9996</th>\n",
       "      <td>정준호</td>\n",
       "      <td>95013</td>\n",
       "      <td>대전광역시 광진구 도산대거리 (정수박리)</td>\n",
       "      <td>054-851-8915</td>\n",
       "      <td>fjeon@example.org</td>\n",
       "    </tr>\n",
       "    <tr>\n",
       "      <th>9997</th>\n",
       "      <td>이미영</td>\n",
       "      <td>99596</td>\n",
       "      <td>강원도 단양군 영동대4거리 (상현이읍)</td>\n",
       "      <td>032-116-5507</td>\n",
       "      <td>ocoe@example.com</td>\n",
       "    </tr>\n",
       "    <tr>\n",
       "      <th>9998</th>\n",
       "      <td>김지은</td>\n",
       "      <td>57784</td>\n",
       "      <td>세종특별자치시 노원구 삼성로</td>\n",
       "      <td>055-366-2516</td>\n",
       "      <td>zsin@example.org</td>\n",
       "    </tr>\n",
       "    <tr>\n",
       "      <th>9999</th>\n",
       "      <td>김순옥</td>\n",
       "      <td>66217</td>\n",
       "      <td>제주특별자치도 시흥시 테헤란로</td>\n",
       "      <td>051-569-3946</td>\n",
       "      <td>csim@example.com</td>\n",
       "    </tr>\n",
       "  </tbody>\n",
       "</table>\n",
       "<p>10000 rows × 5 columns</p>\n",
       "</div>"
      ],
      "text/plain": [
       "       이름   우편번호                        주소          전화번호  \\\n",
       "0     조주원  62516           서울특별시 광진구 서초중앙길  032-360-1420   \n",
       "1     박서준  38786     대전광역시 북구 오금5로 (성수김박리)  032-828-5823   \n",
       "2     송예원  61306             인천광역시 마포구 오금가  052-784-9787   \n",
       "3     김지후  81915  대구광역시 도봉구 오금74거리 (정호임최읍)  032-643-8406   \n",
       "4     김성진  77330            부산광역시 남구 개포40가  051-159-6005   \n",
       "...   ...    ...                       ...           ...   \n",
       "9995  조현우  36673           전라북도 성남시 영동대42길  043-858-3056   \n",
       "9996  정준호  95013    대전광역시 광진구 도산대거리 (정수박리)  054-851-8915   \n",
       "9997  이미영  99596     강원도 단양군 영동대4거리 (상현이읍)  032-116-5507   \n",
       "9998  김지은  57784           세종특별자치시 노원구 삼성로  055-366-2516   \n",
       "9999  김순옥  66217          제주특별자치도 시흥시 테헤란로  051-569-3946   \n",
       "\n",
       "                         이메일  \n",
       "0     jeonghyi24@example.com  \n",
       "1       gimcunja@example.org  \n",
       "2        sugja92@example.com  \n",
       "3       coeogsun@example.org  \n",
       "4     yeongsubag@example.org  \n",
       "...                      ...  \n",
       "9995  yeongsun91@example.net  \n",
       "9996       fjeon@example.org  \n",
       "9997        ocoe@example.com  \n",
       "9998        zsin@example.org  \n",
       "9999        csim@example.com  \n",
       "\n",
       "[10000 rows x 5 columns]"
      ]
     },
     "execution_count": 20,
     "metadata": {},
     "output_type": "execute_result"
    }
   ],
   "source": [
    "import pandas as pd\n",
    "\n",
    "df = pd.read_csv('./dummy_members2.csv') # 주의점! 주피터 노트북에서는 같은 폴더에 파일을 읽을떄\n",
    "df\n",
    "\n"
   ]
  },
  {
   "cell_type": "code",
   "execution_count": 21,
   "metadata": {},
   "outputs": [
    {
     "name": "stdout",
     "output_type": "stream",
     "text": [
      "c:\\Source\\bigdata-python-2023\\Day04\n"
     ]
    }
   ],
   "source": [
    "import os\n",
    "\n",
    "print(os.getcwd())"
   ]
  },
  {
   "attachments": {},
   "cell_type": "markdown",
   "metadata": {},
   "source": [
    "#### 출력 초과문제\n",
    "\n",
    "콘솔이나 주피터 셀 출력 "
   ]
  },
  {
   "cell_type": "code",
   "execution_count": 22,
   "metadata": {},
   "outputs": [
    {
     "data": {
      "text/html": [
       "<div>\n",
       "<style scoped>\n",
       "    .dataframe tbody tr th:only-of-type {\n",
       "        vertical-align: middle;\n",
       "    }\n",
       "\n",
       "    .dataframe tbody tr th {\n",
       "        vertical-align: top;\n",
       "    }\n",
       "\n",
       "    .dataframe thead th {\n",
       "        text-align: right;\n",
       "    }\n",
       "</style>\n",
       "<table border=\"1\" class=\"dataframe\">\n",
       "  <thead>\n",
       "    <tr style=\"text-align: right;\">\n",
       "      <th></th>\n",
       "      <th>이름</th>\n",
       "      <th>우편번호</th>\n",
       "      <th>주소</th>\n",
       "      <th>전화번호</th>\n",
       "      <th>이메일</th>\n",
       "    </tr>\n",
       "  </thead>\n",
       "  <tbody>\n",
       "    <tr>\n",
       "      <th>0</th>\n",
       "      <td>조주원</td>\n",
       "      <td>62516</td>\n",
       "      <td>서울특별시 광진구 서초중앙길</td>\n",
       "      <td>032-360-1420</td>\n",
       "      <td>jeonghyi24@example.com</td>\n",
       "    </tr>\n",
       "    <tr>\n",
       "      <th>1</th>\n",
       "      <td>박서준</td>\n",
       "      <td>38786</td>\n",
       "      <td>대전광역시 북구 오금5로 (성수김박리)</td>\n",
       "      <td>032-828-5823</td>\n",
       "      <td>gimcunja@example.org</td>\n",
       "    </tr>\n",
       "    <tr>\n",
       "      <th>2</th>\n",
       "      <td>송예원</td>\n",
       "      <td>61306</td>\n",
       "      <td>인천광역시 마포구 오금가</td>\n",
       "      <td>052-784-9787</td>\n",
       "      <td>sugja92@example.com</td>\n",
       "    </tr>\n",
       "    <tr>\n",
       "      <th>3</th>\n",
       "      <td>김지후</td>\n",
       "      <td>81915</td>\n",
       "      <td>대구광역시 도봉구 오금74거리 (정호임최읍)</td>\n",
       "      <td>032-643-8406</td>\n",
       "      <td>coeogsun@example.org</td>\n",
       "    </tr>\n",
       "    <tr>\n",
       "      <th>4</th>\n",
       "      <td>김성진</td>\n",
       "      <td>77330</td>\n",
       "      <td>부산광역시 남구 개포40가</td>\n",
       "      <td>051-159-6005</td>\n",
       "      <td>yeongsubag@example.org</td>\n",
       "    </tr>\n",
       "    <tr>\n",
       "      <th>...</th>\n",
       "      <td>...</td>\n",
       "      <td>...</td>\n",
       "      <td>...</td>\n",
       "      <td>...</td>\n",
       "      <td>...</td>\n",
       "    </tr>\n",
       "    <tr>\n",
       "      <th>9995</th>\n",
       "      <td>조현우</td>\n",
       "      <td>36673</td>\n",
       "      <td>전라북도 성남시 영동대42길</td>\n",
       "      <td>043-858-3056</td>\n",
       "      <td>yeongsun91@example.net</td>\n",
       "    </tr>\n",
       "    <tr>\n",
       "      <th>9996</th>\n",
       "      <td>정준호</td>\n",
       "      <td>95013</td>\n",
       "      <td>대전광역시 광진구 도산대거리 (정수박리)</td>\n",
       "      <td>054-851-8915</td>\n",
       "      <td>fjeon@example.org</td>\n",
       "    </tr>\n",
       "    <tr>\n",
       "      <th>9997</th>\n",
       "      <td>이미영</td>\n",
       "      <td>99596</td>\n",
       "      <td>강원도 단양군 영동대4거리 (상현이읍)</td>\n",
       "      <td>032-116-5507</td>\n",
       "      <td>ocoe@example.com</td>\n",
       "    </tr>\n",
       "    <tr>\n",
       "      <th>9998</th>\n",
       "      <td>김지은</td>\n",
       "      <td>57784</td>\n",
       "      <td>세종특별자치시 노원구 삼성로</td>\n",
       "      <td>055-366-2516</td>\n",
       "      <td>zsin@example.org</td>\n",
       "    </tr>\n",
       "    <tr>\n",
       "      <th>9999</th>\n",
       "      <td>김순옥</td>\n",
       "      <td>66217</td>\n",
       "      <td>제주특별자치도 시흥시 테헤란로</td>\n",
       "      <td>051-569-3946</td>\n",
       "      <td>csim@example.com</td>\n",
       "    </tr>\n",
       "  </tbody>\n",
       "</table>\n",
       "<p>10000 rows × 5 columns</p>\n",
       "</div>"
      ],
      "text/plain": [
       "       이름   우편번호                        주소          전화번호  \\\n",
       "0     조주원  62516           서울특별시 광진구 서초중앙길  032-360-1420   \n",
       "1     박서준  38786     대전광역시 북구 오금5로 (성수김박리)  032-828-5823   \n",
       "2     송예원  61306             인천광역시 마포구 오금가  052-784-9787   \n",
       "3     김지후  81915  대구광역시 도봉구 오금74거리 (정호임최읍)  032-643-8406   \n",
       "4     김성진  77330            부산광역시 남구 개포40가  051-159-6005   \n",
       "...   ...    ...                       ...           ...   \n",
       "9995  조현우  36673           전라북도 성남시 영동대42길  043-858-3056   \n",
       "9996  정준호  95013    대전광역시 광진구 도산대거리 (정수박리)  054-851-8915   \n",
       "9997  이미영  99596     강원도 단양군 영동대4거리 (상현이읍)  032-116-5507   \n",
       "9998  김지은  57784           세종특별자치시 노원구 삼성로  055-366-2516   \n",
       "9999  김순옥  66217          제주특별자치도 시흥시 테헤란로  051-569-3946   \n",
       "\n",
       "                         이메일  \n",
       "0     jeonghyi24@example.com  \n",
       "1       gimcunja@example.org  \n",
       "2        sugja92@example.com  \n",
       "3       coeogsun@example.org  \n",
       "4     yeongsubag@example.org  \n",
       "...                      ...  \n",
       "9995  yeongsun91@example.net  \n",
       "9996       fjeon@example.org  \n",
       "9997        ocoe@example.com  \n",
       "9998        zsin@example.org  \n",
       "9999        csim@example.com  \n",
       "\n",
       "[10000 rows x 5 columns]"
      ]
     },
     "execution_count": 22,
     "metadata": {},
     "output_type": "execute_result"
    }
   ],
   "source": [
    "pd.options.display.max_columns = 10\n",
    "pd.options.display.max_rows = 100\n",
    "data = pd.read_csv('./dummy_members2.csv', encoding='utf-8')\n",
    "\n",
    "data"
   ]
  }
 ],
 "metadata": {
  "kernelspec": {
   "display_name": "Python 3",
   "language": "python",
   "name": "python3"
  },
  "language_info": {
   "codemirror_mode": {
    "name": "ipython",
    "version": 3
   },
   "file_extension": ".py",
   "mimetype": "text/x-python",
   "name": "python",
   "nbconvert_exporter": "python",
   "pygments_lexer": "ipython3",
   "version": "3.11.4"
  },
  "orig_nbformat": 4,
  "vscode": {
   "interpreter": {
    "hash": "5238573367df39f7286bb46f9ff5f08f63a01a80960060ce41e3c79b190280fa"
   }
  }
 },
 "nbformat": 4,
 "nbformat_minor": 2
}
