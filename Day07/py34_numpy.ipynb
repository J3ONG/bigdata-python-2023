{
 "cells": [
  {
   "attachments": {},
   "cell_type": "markdown",
   "metadata": {},
   "source": [
    "### Numpy\n",
    "\n",
    "- Pandas : https://pandas.pydata.org/\n",
    "- Numpy : https://numpy.org/\n",
    "\n",
    "- 수치 해석, 수학적 처리를 위한 라이브러리(모듈) - Scipy"
   ]
  }
 ],
 "metadata": {
  "language_info": {
   "name": "python"
  },
  "orig_nbformat": 4
 },
 "nbformat": 4,
 "nbformat_minor": 2
}
