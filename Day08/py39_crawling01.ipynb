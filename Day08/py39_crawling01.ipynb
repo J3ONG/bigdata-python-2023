{
 "cells": [
  {
   "attachments": {},
   "cell_type": "markdown",
   "metadata": {},
   "source": [
    "### 멜론 노래 순위 정보 크롤링\n",
    "\n",
    "## 크롬 드라이버"
   ]
  },
  {
   "cell_type": "code",
   "execution_count": 1,
   "metadata": {},
   "outputs": [],
   "source": [
    "from selenium import webdriver\n",
    "\n",
    "driver = webdriver.Chrome()"
   ]
  },
  {
   "cell_type": "code",
   "execution_count": 4,
   "metadata": {},
   "outputs": [],
   "source": [
    "# 멜론 차트로 진입\n",
    "url = 'https://www.melon.com/chart/index.htm'\n",
    "\n",
    "driver.get(url)"
   ]
  },
  {
   "cell_type": "code",
   "execution_count": 9,
   "metadata": {},
   "outputs": [],
   "source": [
    "# beautifulSoup로 HTML 다운로드\n",
    "from bs4 import BeautifulSoup\n",
    "\n",
    "html = driver.page_source\n",
    "soup = BeautifulSoup(html, 'html.parser') # html.parser, xml, lxml, html5lib\n"
   ]
  },
  {
   "cell_type": "code",
   "execution_count": 8,
   "metadata": {},
   "outputs": [
    {
     "data": {
      "text/plain": [
       "100"
      ]
     },
     "execution_count": 8,
     "metadata": {},
     "output_type": "execute_result"
    }
   ],
   "source": [
    "songs = soup.select('table > tbody > tr')\n",
    "len(songs)"
   ]
  },
  {
   "cell_type": "code",
   "execution_count": 10,
   "metadata": {},
   "outputs": [
    {
     "data": {
      "text/plain": [
       "<tr class=\"lst50\" data-song-no=\"36430773\" id=\"lst50\">\n",
       "<td><div class=\"wrap t_right\"><input class=\"input_check\" name=\"input_check\" title=\"퀸카 (Queencard) 곡 선택\" type=\"checkbox\" value=\"36430773\"/></div></td>\n",
       "<td><div class=\"wrap t_center\"><span class=\"rank\">1</span><span class=\"none\">위</span></div></td>\n",
       "<!-- 차트순위 추가 -->\n",
       "<td><div class=\"wrap\">\n",
       "<span class=\"rank_wrap\" title=\"순위 동일\">\n",
       "<span class=\"bullet_icons rank_static\"><span class=\"none\">순위 동일</span></span>\n",
       "<span class=\"none\">0</span>\n",
       "</span>\n",
       "</div></td>\n",
       "<td><div class=\"wrap\">\n",
       "<a class=\"image_typeAll\" href=\"javascript:melon.link.goAlbumDetail('11240232');\" title=\"I feel\">\n",
       "<img alt=\"I feel - 페이지 이동\" height=\"60\" onerror=\"WEBPOCIMG.defaultAlbumImg(this);\" src=\"https://cdnimg.melon.co.kr/cm2/album/images/112/40/232/11240232_20230509151820_500.jpg/melon/resize/120/quality/80/optimize\" width=\"60\"/>\n",
       "<span class=\"bg_album_frame\"></span>\n",
       "</a>\n",
       "</div></td>\n",
       "<td><div class=\"wrap\">\n",
       "<a class=\"btn button_icons type03 song_info\" href=\"javascript:melon.link.goSongDetail('36430773');\" title=\"퀸카 (Queencard) 곡정보\"><span class=\"none\">곡정보</span></a>\n",
       "</div></td>\n",
       "<td><div class=\"wrap\">\n",
       "<div class=\"wrap_song_info\">\n",
       "<div class=\"ellipsis rank01\"><span>\n",
       "<a href=\"javascript:melon.play.playSong('1000002721',36430773);\" title=\"퀸카 (Queencard) 재생\">퀸카 (Queencard)</a>\n",
       "</span></div><br/>\n",
       "<div class=\"ellipsis rank02\">\n",
       "<a href=\"javascript:melon.link.goArtistDetail('2137482');\" title=\"(여자)아이들 - 페이지 이동\">(여자)아이들</a><span class=\"checkEllipsis\" style=\"display: none;\"><a href=\"javascript:melon.link.goArtistDetail('2137482');\" title=\"(여자)아이들 - 페이지 이동\">(여자)아이들</a></span>\n",
       "</div>\n",
       "</div>\n",
       "</div></td>\n",
       "<td><div class=\"wrap\">\n",
       "<div class=\"wrap_song_info\">\n",
       "<div class=\"ellipsis rank03\">\n",
       "<a href=\"javascript:melon.link.goAlbumDetail('11240232');\" title=\"I feel - 페이지 이동\">I feel</a>\n",
       "</div>\n",
       "</div>\n",
       "</div></td>\n",
       "<td><div class=\"wrap\">\n",
       "<button class=\"button_etc like\" data-song-menuid=\"1000002721\" data-song-no=\"36430773\" title=\"퀸카 (Queencard) 좋아요\" type=\"button\"><span class=\"odd_span\">좋아요</span>\n",
       "<span class=\"cnt\">\n",
       "<span class=\"none\">총건수</span>\n",
       "105,568</span></button>\n",
       "</div></td>\n",
       "<td><div class=\"wrap t_center\">\n",
       "<button class=\"button_icons play\" onclick=\"melon.play.playSong('1000002721',36430773);\" title=\"듣기\" type=\"button\"><span class=\"none\">듣기</span></button>\n",
       "</div></td>\n",
       "<td><div class=\"wrap t_center\">\n",
       "<button class=\"button_icons scrap\" onclick=\"melon.play.addPlayList('36430773');\" title=\"담기\" type=\"button\"><span class=\"none\">담기</span></button>\n",
       "</div></td>\n",
       "<td><div class=\"wrap t_center\">\n",
       "<button class=\"button_icons download\" onclick=\"melon.buy.goBuyProduct('frm', '36430773', '3C0001', '','0', '1000002721');\" title=\"다운로드\" type=\"button\"><span class=\"none\">다운로드</span></button>\n",
       "</div></td>\n",
       "<td><div class=\"wrap t_center\">\n",
       "<button class=\"button_icons video\" onclick=\"melon.link.goMvDetail('1000002721', '36430773','song');\" title=\"뮤직비디오\" type=\"button\"><span class=\"none\">뮤직비디오</span></button>\n",
       "</div></td>\n",
       "</tr>"
      ]
     },
     "execution_count": 10,
     "metadata": {},
     "output_type": "execute_result"
    }
   ],
   "source": [
    "songs[0]"
   ]
  },
  {
   "cell_type": "code",
   "execution_count": 14,
   "metadata": {},
   "outputs": [
    {
     "data": {
      "text/plain": [
       "[<span class=\"checkEllipsis\" style=\"display: none;\"><a href=\"javascript:melon.link.goArtistDetail('994944');\" title=\"임영웅 - 페이지 이동\">임영웅</a></span>]"
      ]
     },
     "execution_count": 14,
     "metadata": {},
     "output_type": "execute_result"
    }
   ],
   "source": [
    "songs[8].select('span.checkEllipsis')"
   ]
  },
  {
   "cell_type": "code",
   "execution_count": 19,
   "metadata": {},
   "outputs": [
    {
     "name": "stdout",
     "output_type": "stream",
     "text": [
      "1 퀸카 (Queencard) (여자)아이들\n",
      "2 I AM IVE (아이브)\n",
      "3 Spicy aespa\n",
      "4 이브, 프시케 그리고 푸른 수염의 아내 LE SSERAFIM (르세라핌)\n",
      "5 UNFORGIVEN (feat. Nile Rodgers) LE SSERAFIM (르세라핌)\n",
      "6 Kitsch IVE (아이브)\n",
      "7 사랑은 늘 도망가 임영웅\n",
      "8 모래 알갱이 임영웅\n",
      "9 우리들의 블루스 임영웅\n",
      "10 헤어지자 말해요 박재정\n",
      "11 다시 만날 수 있을까 임영웅\n",
      "12 Hype boy NewJeans\n",
      "13 무지개 임영웅\n",
      "14 꽃 지수 (JISOO)\n",
      "15 London Boy 임영웅\n",
      "16 손오공 세븐틴 (SEVENTEEN)\n",
      "17 이제 나만 믿어요 임영웅\n",
      "18 Polaroid 임영웅\n",
      "19 아버지 임영웅\n",
      "20 Ditto NewJeans\n",
      "21 인생찬가 임영웅\n",
      "22 A bientot 임영웅\n",
      "23 Cupid FIFTY FIFTY\n",
      "24 손이 참 곱던 그대 임영웅\n",
      "25 사랑해 진짜 임영웅\n",
      "26 연애편지 임영웅\n",
      "27 OMG NewJeans\n",
      "28 Allergy (여자)아이들\n",
      "29 사건의 지평선 윤하 (YOUNHA)\n",
      "30 파이팅 해야지 (Feat. 이영지) 부석순 (SEVENTEEN)\n",
      "31 보금자리 임영웅\n",
      "32 I Don't Think That I Like Her Charlie Puth\n",
      "33 Dangerously Charlie Puth\n",
      "34 Candy NCT DREAM\n",
      "35 After LIKE IVE (아이브)\n",
      "36 물론 허각\n",
      "37 Dynamite 방탄소년단\n",
      "38 Attention NewJeans\n",
      "39 Teddy Bear STAYC(스테이씨)\n",
      "40 LOVE DIVE IVE (아이브)\n",
      "41 심(心) DK(디셈버)\n",
      "42 Take Two 방탄소년단\n",
      "43 사랑..그게 뭔데 지아\n",
      "44 사랑하지 않아서 그랬어 임한별\n",
      "45 Butter 방탄소년단\n",
      "46 Broken Melodies NCT DREAM\n",
      "47 사람 Pt.2 (feat. 아이유) Agust D\n",
      "48 Like Crazy 지민\n",
      "49 HARD SHINee (샤이니)\n",
      "50 잠깐 시간 될까 이무진\n",
      "51 ANTIFRAGILE LE SSERAFIM (르세라핌)\n",
      "52 봄날 방탄소년단\n",
      "53 나에게 그대만이 탑현\n",
      "54 Heaven(2023) 임재현\n",
      "55 사랑인가 봐 멜로망스\n",
      "56 Permission to Dance 방탄소년단\n",
      "57 The Planet 방탄소년단\n",
      "58 사실말야내가말야그게그러니까말이야 케이시 (Kassy)\n",
      "59 찬란한 하루 멜로망스\n",
      "60 너의 모든 순간 성시경\n",
      "61 빛이 나는 너에게 던 (DAWN)\n",
      "62 NIGHT DANCER imase\n",
      "63 Angel Pt. 1 (Feat. Kodak Black, NLE Choppa, JVKE, Muni Long) Fast & Furious: The Fast Saga\n",
      "64 Dreamers [Music from the FIFA World Cup Qatar 2022 Official Soundtrack] (Feat. FIFA Sound) 정국\n",
      "65 건물 사이에 피어난 장미 (Rose Blossom) H1-KEY (하이키)\n",
      "66 Thirsty aespa\n",
      "67 첫 키스에 내 심장은 120BPM 경서\n",
      "68 사랑의 바보 제이세라\n",
      "69 KNOCK 이채연\n",
      "70 That's Hilarious Charlie Puth\n",
      "71 STAY The Kid LAROI\n",
      "72 TOMBOY (여자)아이들\n",
      "73 그중에 그대를 만나 김호중\n",
      "74 부동의 첫사랑 10CM\n",
      "75 on the street (with J. Cole) j-hope\n",
      "76 Nxde (여자)아이들\n",
      "77 한사람만 (2023) (여름날 우리 X 이홍기 (FT아일랜드)) 이홍기 (FT아일랜드)\n",
      "78 사랑하지 않아서 그랬니 지아\n",
      "79 안녕이라고 말하지마 V.O.S\n",
      "80 취중고백 김민석 (멜로망스)\n",
      "81 해요 (2022) #안녕\n",
      "82 나의 바람 (Wind And Wish) 비투비\n",
      "83 That’s Not How This Works (feat. Dan + Shay) Charlie Puth\n",
      "84 Monologue 테이\n",
      "85 CHRISTIAN Zior Park\n",
      "86 다정히 내 이름을 부르면 경서예지\n",
      "87 사랑하기 싫어 지아\n",
      "88 FRIEND THE END 볼빨간사춘기\n",
      "89 한강에서 (Feat. BIG Naughty) 폴킴\n",
      "90 LOCKDOWN 이세계아이돌\n",
      "91 Love Me Like This NMIXX\n",
      "92 그라데이션 10CM\n",
      "93 ELEVEN IVE (아이브)\n",
      "94 FEARLESS LE SSERAFIM (르세라핌)\n",
      "95 내가 아니라도 주호\n",
      "96 Shut Down BLACKPINK\n",
      "97 정이라고 하자 (Feat. 10CM) BIG Naughty (서동현)\n",
      "98 당신을 만나 김호중\n",
      "99 Say I Love You 우디 (Woody)\n",
      "100 Pink Venom BLACKPINK\n"
     ]
    }
   ],
   "source": [
    "for song in songs:\n",
    "    rank = song.select('span.rank')[0].text    \n",
    "    title = song.select('span > a')[0].text\n",
    "    singer = song.select('span.checkEllipsis > a')[0].text\n",
    "    print(rank, title, singer)"
   ]
  }
 ],
 "metadata": {
  "kernelspec": {
   "display_name": "Python 3",
   "language": "python",
   "name": "python3"
  },
  "language_info": {
   "codemirror_mode": {
    "name": "ipython",
    "version": 3
   },
   "file_extension": ".py",
   "mimetype": "text/x-python",
   "name": "python",
   "nbconvert_exporter": "python",
   "pygments_lexer": "ipython3",
   "version": "3.11.4"
  },
  "orig_nbformat": 4,
  "vscode": {
   "interpreter": {
    "hash": "5238573367df39f7286bb46f9ff5f08f63a01a80960060ce41e3c79b190280fa"
   }
  }
 },
 "nbformat": 4,
 "nbformat_minor": 2
}
